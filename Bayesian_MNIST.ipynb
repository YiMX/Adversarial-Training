{
 "cells": [
  {
   "cell_type": "code",
   "execution_count": 1,
   "metadata": {},
   "outputs": [
    {
     "name": "stdout",
     "output_type": "stream",
     "text": [
      "1.1.0\n"
     ]
    }
   ],
   "source": [
    "from __future__ import absolute_import\n",
    "from __future__ import division\n",
    "from __future__ import print_function\n",
    "\n",
    "import edward as ed\n",
    "import matplotlib.pyplot as plt\n",
    "import numpy as np\n",
    "import tensorflow as tf\n",
    "print(tf.__version__)\n",
    "from edward.models import Multinomial, Normal, Categorical"
   ]
  },
  {
   "cell_type": "code",
   "execution_count": 2,
   "metadata": {},
   "outputs": [
    {
     "name": "stdout",
     "output_type": "stream",
     "text": [
      "Extracting ../VAE/Datasets/MNIST_data/train-images-idx3-ubyte.gz\n",
      "Extracting ../VAE/Datasets/MNIST_data/train-labels-idx1-ubyte.gz\n",
      "Extracting ../VAE/Datasets/MNIST_data/t10k-images-idx3-ubyte.gz\n",
      "Extracting ../VAE/Datasets/MNIST_data/t10k-labels-idx1-ubyte.gz\n",
      "55000\n",
      "10000\n"
     ]
    }
   ],
   "source": [
    "from tensorflow.examples.tutorials.mnist import input_data\n",
    "mnist = input_data.read_data_sets('../VAE/Datasets/MNIST_data', one_hot=True)\n",
    "n_train_samples = mnist.train.num_examples\n",
    "n_test_samples = mnist.test.num_examples\n",
    "print(n_train_samples)\n",
    "print(n_test_samples)"
   ]
  },
  {
   "cell_type": "markdown",
   "metadata": {},
   "source": [
    "### Define the model"
   ]
  },
  {
   "cell_type": "code",
   "execution_count": 3,
   "metadata": {
    "collapsed": true
   },
   "outputs": [],
   "source": [
    "def forward(X, W_0, b_0, W_1, b_1):\n",
    "  hidden_layer = tf.nn.relu(tf.matmul(X, W_0) + b_0)\n",
    "  output = tf.matmul(hidden_layer, W_1) + b_1\n",
    "  return output"
   ]
  },
  {
   "cell_type": "markdown",
   "metadata": {},
   "source": [
    "### Priors"
   ]
  },
  {
   "cell_type": "code",
   "execution_count": 4,
   "metadata": {
    "collapsed": true
   },
   "outputs": [],
   "source": [
    "num_features = 784\n",
    "num_classes = 10\n",
    "hidden_units = 500\n",
    "\n",
    "W_0 = Normal(loc=tf.zeros([num_features, hidden_units]), scale=tf.ones([num_features, hidden_units]))\n",
    "b_0 = Normal(loc=tf.zeros(hidden_units), scale=tf.ones(hidden_units))\n",
    "W_1 = Normal(loc=tf.zeros([hidden_units, num_classes]), scale=tf.ones([hidden_units, num_classes]))\n",
    "b_1 = Normal(loc=tf.zeros(num_classes), scale=tf.ones(num_classes))"
   ]
  },
  {
   "cell_type": "code",
   "execution_count": 5,
   "metadata": {},
   "outputs": [],
   "source": [
    "X = tf.placeholder(tf.float32, [None, num_features])\n",
    "y = Multinomial(logits=forward(X, W_0, b_0, W_1, b_1), total_count=1.)\n",
    "\n",
    "#y = Categorical(logits=forward(X, W_0, b_0, W_1, b_1))"
   ]
  },
  {
   "cell_type": "code",
   "execution_count": 6,
   "metadata": {},
   "outputs": [],
   "source": [
    "# Posteriors\n",
    "qw_0_loc = tf.Variable(tf.random_normal([num_features, hidden_units]))\n",
    "qw_0_scale = tf.nn.softplus(tf.Variable(tf.random_normal([num_features, hidden_units])))\n",
    "qb_0_loc = tf.Variable(tf.random_normal([hidden_units]) + 5)\n",
    "qb_0_scale = tf.nn.softplus(tf.Variable(tf.random_normal([hidden_units])))\n",
    "\n",
    "qw_0 = Normal(loc=qw_0_loc, scale=qw_0_scale)\n",
    "qb_0 = Normal(loc=qb_0_loc, scale=qb_0_scale)\n",
    "\n",
    "qw_1_loc = tf.Variable(tf.random_normal([hidden_units, num_classes]))\n",
    "qw_1_scale = tf.nn.softplus(tf.Variable(tf.random_normal([hidden_units, num_classes])))\n",
    "qb_1_loc = tf.Variable(tf.random_normal([num_classes]) + 5)\n",
    "qb_1_scale = tf.nn.softplus(tf.Variable(tf.random_normal([num_classes])))\n",
    "\n",
    "qw_1 = Normal(loc=qw_1_loc, scale=qw_1_scale)\n",
    "qb_1 = Normal(loc=qb_1_loc, scale=qb_1_scale)"
   ]
  },
  {
   "cell_type": "code",
   "execution_count": 7,
   "metadata": {},
   "outputs": [],
   "source": [
    "y_ph_categorical = tf.placeholder(tf.int32, [None])\n",
    "y_ph_multinomial = tf.placeholder(tf.float32, [None, num_classes])\n",
    "\n",
    "\n",
    "inference = ed.KLqp({W_0: qw_0, b_0: qb_0, W_1: qw_1, b_1: qb_1},  data={y: y_ph_multinomial})"
   ]
  },
  {
   "cell_type": "code",
   "execution_count": 8,
   "metadata": {
    "scrolled": false
   },
   "outputs": [],
   "source": [
    "inference.initialize(n_iter=1000, n_print=100, scale={y: n_train_samples / 64})"
   ]
  },
  {
   "cell_type": "code",
   "execution_count": 9,
   "metadata": {
    "collapsed": true
   },
   "outputs": [],
   "source": [
    "sess = ed.get_session()\n",
    "tf.global_variables_initializer().run()"
   ]
  },
  {
   "cell_type": "code",
   "execution_count": 11,
   "metadata": {},
   "outputs": [
    {
     "name": "stdout",
     "output_type": "stream",
     "text": [
      "1000/1000 [100%] ██████████████████████████████ Elapsed: 38s | Loss: nan\n"
     ]
    }
   ],
   "source": [
    "for t in range(inference.n_iter):\n",
    "  xs, ys = mnist.train.next_batch(64)\n",
    "  \n",
    "  #ys = np.argmax(ys, axis=1)  #for Categorical\n",
    "  info_dict = inference.update({X: xs, y_ph_multinomial: ys})\n",
    "  inference.print_progress(info_dict)"
   ]
  },
  {
   "cell_type": "code",
   "execution_count": 15,
   "metadata": {},
   "outputs": [
    {
     "name": "stdout",
     "output_type": "stream",
     "text": [
      "Accuracy: 0.8553\n"
     ]
    }
   ],
   "source": [
    "x_test = mnist.test.images\n",
    "y_test = mnist.test.labels\n",
    "logits = forward(x_test, qw_0, qb_0, qw_1, qb_1)\n",
    "correct_prediction = tf.equal(tf.argmax(logits, 1), tf.argmax(y_test, 1), name=\"correct_prediction\")\n",
    "accuracy = tf.reduce_mean(tf.cast(correct_prediction, tf.float32), name=\"accuracy\")\n",
    "print(\"Accuracy:\",accuracy.eval())"
   ]
  },
  {
   "cell_type": "code",
   "execution_count": null,
   "metadata": {
    "collapsed": true
   },
   "outputs": [],
   "source": []
  }
 ],
 "metadata": {
  "kernelspec": {
   "display_name": "Python 2",
   "language": "python",
   "name": "python2"
  },
  "language_info": {
   "codemirror_mode": {
    "name": "ipython",
    "version": 2
   },
   "file_extension": ".py",
   "mimetype": "text/x-python",
   "name": "python",
   "nbconvert_exporter": "python",
   "pygments_lexer": "ipython2",
   "version": "2.7.6"
  }
 },
 "nbformat": 4,
 "nbformat_minor": 2
}
