{
 "cells": [
  {
   "cell_type": "code",
   "execution_count": 1,
   "metadata": {},
   "outputs": [
    {
     "name": "stdout",
     "output_type": "stream",
     "text": [
      "1.1.0\n"
     ]
    }
   ],
   "source": [
    "from __future__ import absolute_import\n",
    "from __future__ import division\n",
    "from __future__ import print_function\n",
    "\n",
    "import edward as ed\n",
    "import matplotlib.pyplot as plt\n",
    "import numpy as np\n",
    "import tensorflow as tf\n",
    "print(tf.__version__)\n",
    "from edward.models import Multinomial, Normal"
   ]
  },
  {
   "cell_type": "code",
   "execution_count": 3,
   "metadata": {},
   "outputs": [
    {
     "name": "stdout",
     "output_type": "stream",
     "text": [
      "Extracting ../VAE/Datasets/MNIST_data/train-images-idx3-ubyte.gz\n",
      "Extracting ../VAE/Datasets/MNIST_data/train-labels-idx1-ubyte.gz\n",
      "Extracting ../VAE/Datasets/MNIST_data/t10k-images-idx3-ubyte.gz\n",
      "Extracting ../VAE/Datasets/MNIST_data/t10k-labels-idx1-ubyte.gz\n",
      "55000\n",
      "10000\n"
     ]
    }
   ],
   "source": [
    "from tensorflow.examples.tutorials.mnist import input_data\n",
    "mnist = input_data.read_data_sets('../VAE/Datasets/MNIST_data', one_hot=True)\n",
    "n_train_samples = mnist.train.num_examples\n",
    "n_test_samples = mnist.test.num_examples\n",
    "print(n_train_samples)\n",
    "print(n_test_samples)"
   ]
  },
  {
   "cell_type": "markdown",
   "metadata": {},
   "source": [
    "### Define the model"
   ]
  },
  {
   "cell_type": "code",
   "execution_count": 5,
   "metadata": {
    "collapsed": true
   },
   "outputs": [],
   "source": [
    "def forward(X, W_0, b_0, W_1, b_1):\n",
    "  hidden_layer = tf.nn.relu(tf.matmul(X, W_0) + b_0)\n",
    "  output = tf.matmul(hidden_layer, W_1) + b_1\n",
    "  return output"
   ]
  },
  {
   "cell_type": "markdown",
   "metadata": {},
   "source": [
    "### Priors"
   ]
  },
  {
   "cell_type": "code",
   "execution_count": 9,
   "metadata": {
    "collapsed": true
   },
   "outputs": [],
   "source": [
    "num_features = 784\n",
    "num_classes = 10\n",
    "hidden_units = 500\n",
    "\n",
    "W_0 = Normal(loc=tf.zeros([num_features, hidden_units]), scale=tf.ones([num_features, hidden_units]))\n",
    "b_0 = Normal(loc=tf.zeros(hidden_units), scale=tf.ones(hidden_units))\n",
    "W_1 = Normal(loc=tf.zeros([hidden_units, num_classes]), scale=tf.ones([hidden_units, num_classes]))\n",
    "b_1 = Normal(loc=tf.zeros(num_classes), scale=tf.ones(num_classes))"
   ]
  },
  {
   "cell_type": "code",
   "execution_count": null,
   "metadata": {
    "collapsed": true
   },
   "outputs": [],
   "source": [
    "X = tf.placeholder(tf.float32, [N, num_features])"
   ]
  }
 ],
 "metadata": {
  "kernelspec": {
   "display_name": "Python 2",
   "language": "python",
   "name": "python2"
  },
  "language_info": {
   "codemirror_mode": {
    "name": "ipython",
    "version": 2
   },
   "file_extension": ".py",
   "mimetype": "text/x-python",
   "name": "python",
   "nbconvert_exporter": "python",
   "pygments_lexer": "ipython2",
   "version": "2.7.6"
  }
 },
 "nbformat": 4,
 "nbformat_minor": 2
}
