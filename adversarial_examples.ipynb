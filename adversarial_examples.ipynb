{
 "cells": [
  {
   "cell_type": "code",
   "execution_count": 1,
   "metadata": {},
   "outputs": [
    {
     "name": "stdout",
     "output_type": "stream",
     "text": [
      "1.1.0\n"
     ]
    }
   ],
   "source": [
    "import numpy as np\n",
    "import tensorflow as tf\n",
    "import matplotlib.pyplot as plt\n",
    "%matplotlib inline\n",
    "from tensorflow.contrib.layers import xavier_initializer\n",
    "from forward import forward\n",
    "from __future__ import print_function\n",
    "print(tf.__version__)"
   ]
  },
  {
   "cell_type": "code",
   "execution_count": 2,
   "metadata": {},
   "outputs": [
    {
     "name": "stdout",
     "output_type": "stream",
     "text": [
      "Extracting ../VAE/Datasets/MNIST_data/train-images-idx3-ubyte.gz\n",
      "Extracting ../VAE/Datasets/MNIST_data/train-labels-idx1-ubyte.gz\n",
      "Extracting ../VAE/Datasets/MNIST_data/t10k-images-idx3-ubyte.gz\n",
      "Extracting ../VAE/Datasets/MNIST_data/t10k-labels-idx1-ubyte.gz\n",
      "55000\n"
     ]
    }
   ],
   "source": [
    "from tensorflow.examples.tutorials.mnist import input_data\n",
    "mnist = input_data.read_data_sets('../VAE/Datasets/MNIST_data', one_hot=True)\n",
    "n_train_samples = mnist.train.num_examples\n",
    "n_test_samples = mnist.test.num_examples\n",
    "print(n_train_samples)"
   ]
  },
  {
   "cell_type": "code",
   "execution_count": 3,
   "metadata": {
    "collapsed": true
   },
   "outputs": [],
   "source": [
    "with tf.name_scope(\"input\"):  \n",
    "  x = tf.placeholder(tf.float32, [None, 784], name='x-input')\n",
    "  labels = tf.placeholder(tf.float32, [None, 10], name='y-input')\n",
    "  \n",
    "with tf.name_scope(\"layers\"):\n",
    "  logits = forward(x)\n",
    "  probabilities = tf.nn.softmax(logits)\n",
    "\n",
    "with tf.name_scope(\"loss\"):\n",
    "  cross_entropy = tf.nn.softmax_cross_entropy_with_logits(logits=logits, labels=labels)\n",
    "\n",
    "  loss = tf.reduce_mean(cross_entropy)\n",
    "\n",
    "  train_op = tf.train.GradientDescentOptimizer(0.1).minimize(loss)\n",
    "\n",
    "\n",
    "#jensen = cross_entropy + tf.nn.softmax_cross_entropy_with_logits(logits=labels, labels=logits)\n",
    "#loss2 = tf.reduce_mean(jensen)\n",
    "#train_op2 = tf.train.GradientDescentOptimizer(0.1).minimize(loss2)"
   ]
  },
  {
   "cell_type": "code",
   "execution_count": 4,
   "metadata": {
    "collapsed": true
   },
   "outputs": [],
   "source": [
    "with tf.name_scope(\"Accuracy\"):  \n",
    "  correct_prediction = tf.equal(tf.argmax(logits, 1), tf.argmax(labels, 1), name=\"correct_prediction\")\n",
    "  accuracy = tf.reduce_mean(tf.cast(correct_prediction, tf.float32), name=\"accuracy\")"
   ]
  },
  {
   "cell_type": "code",
   "execution_count": 5,
   "metadata": {
    "collapsed": true
   },
   "outputs": [],
   "source": [
    "var_list=tf.trainable_variables()"
   ]
  },
  {
   "cell_type": "code",
   "execution_count": 6,
   "metadata": {
    "collapsed": true
   },
   "outputs": [],
   "source": [
    "TRAINING_STEPS = 20000"
   ]
  },
  {
   "cell_type": "code",
   "execution_count": null,
   "metadata": {
    "scrolled": false
   },
   "outputs": [
    {
     "name": "stdout",
     "output_type": "stream",
     "text": [
      "After 0 training step(s), validation accuracy 0.0742, valid loss 2.71572\n",
      "After 1000 training step(s), validation accuracy 0.951, valid loss 0.183857\n",
      "Train loss 0.308581\n",
      "--------------------------------\n",
      "\n",
      "After 2000 training step(s), validation accuracy 0.9624, valid loss 0.138677\n",
      "Train loss 0.161007\n",
      "--------------------------------\n",
      "\n",
      "After 3000 training step(s), validation accuracy 0.9704, valid loss 0.113131\n",
      "Train loss 0.116866\n",
      "--------------------------------\n",
      "\n",
      "After 4000 training step(s), validation accuracy 0.9738, valid loss 0.0995903\n",
      "Train loss 0.0930957\n",
      "--------------------------------\n",
      "\n",
      "After 5000 training step(s), validation accuracy 0.9758, valid loss 0.0868728\n",
      "Train loss 0.0769087\n",
      "--------------------------------\n",
      "\n",
      "After 6000 training step(s), validation accuracy 0.9762, valid loss 0.0854313\n",
      "Train loss 0.063423\n",
      "--------------------------------\n",
      "\n",
      "After 7000 training step(s), validation accuracy 0.9782, valid loss 0.0772997\n",
      "Train loss 0.0534674\n",
      "--------------------------------\n",
      "\n",
      "After 8000 training step(s), validation accuracy 0.9784, valid loss 0.0747481\n",
      "Train loss 0.0457438\n",
      "--------------------------------\n",
      "\n",
      "After 9000 training step(s), validation accuracy 0.9804, valid loss 0.0721426\n",
      "Train loss 0.0390675\n",
      "--------------------------------\n",
      "\n",
      "After 10000 training step(s), validation accuracy 0.979, valid loss 0.0735567\n",
      "Train loss 0.034583\n",
      "--------------------------------\n",
      "\n",
      "After 11000 training step(s), validation accuracy 0.98, valid loss 0.0678739\n",
      "Train loss 0.0304906\n",
      "--------------------------------\n",
      "\n",
      "After 12000 training step(s), validation accuracy 0.98, valid loss 0.0695245\n",
      "Train loss 0.0267825\n",
      "--------------------------------\n",
      "\n",
      "After 13000 training step(s), validation accuracy 0.98, valid loss 0.0674396\n",
      "Train loss 0.0230257\n",
      "--------------------------------\n",
      "\n",
      "After 14000 training step(s), validation accuracy 0.9788, valid loss 0.0686004\n",
      "Train loss 0.020783\n",
      "--------------------------------\n",
      "\n"
     ]
    }
   ],
   "source": [
    "with tf.Session() as sess:\n",
    "  tf.global_variables_initializer().run()\n",
    "  validate_feed = {x: mnist.validation.images, labels: mnist.validation.labels}\n",
    "  test_feed = {x: mnist.test.images, labels: mnist.test.labels} \n",
    "  saver = tf.train.Saver()\n",
    "  ave = 0\n",
    "  for i in range(TRAINING_STEPS):\n",
    "    \n",
    "    if i % 1000 == 0:\n",
    "      \n",
    "      validate_acc, validate_loss = sess.run([accuracy, loss], feed_dict=validate_feed)\n",
    "      print(\"After %d training step(s), validation accuracy %g, valid loss %g\" % (i, validate_acc, validate_loss))\n",
    "            \n",
    "      \n",
    "    xs,ys=mnist.train.next_batch(64)\n",
    "    _, loss_val = sess.run([train_op, loss],feed_dict={x:xs,labels:ys})\n",
    "    ave += loss_val\n",
    "    if i % 1000 == 0 and i != 0:\n",
    "      saver.save(sess, \"save/\" + 'AT.ckpt', global_step=i)\n",
    "      ave = ave / 1000\n",
    "      print(\"Train loss %g\" % ave)\n",
    "      print(\"--------------------------------\\n\")\n",
    "      ave = 0\n",
    "    \n",
    "  test_acc, test_loss=sess.run([accuracy, loss],feed_dict=test_feed)\n",
    "  print((\"After %d training step(s), test accuracy %g, test loss %g\" %(TRAINING_STEPS, test_acc, test_loss)))\n",
    "  \n",
    "writer = tf.summary.FileWriter(\"ad.log\", tf.get_default_graph())\n",
    "writer.close()"
   ]
  },
  {
   "cell_type": "markdown",
   "metadata": {},
   "source": [
    "#### Read models and analysis"
   ]
  },
  {
   "cell_type": "code",
   "execution_count": 7,
   "metadata": {
    "scrolled": false
   },
   "outputs": [
    {
     "name": "stdout",
     "output_type": "stream",
     "text": [
      "INFO:tensorflow:Restoring parameters from save/AT.ckpt-19000\n"
     ]
    }
   ],
   "source": [
    "sess = tf.Session()\n",
    "ckpt = tf.train.get_checkpoint_state(\"save\")\n",
    "sess.run(tf.global_variables_initializer())\n",
    "restorer = tf.train.Saver(var_list=var_list[0:2])\n",
    "restorer.restore(sess, ckpt.model_checkpoint_path)"
   ]
  },
  {
   "cell_type": "code",
   "execution_count": 8,
   "metadata": {
    "collapsed": true
   },
   "outputs": [],
   "source": [
    "x_sample, labels = mnist.test.next_batch(100)\n",
    "labels = [np.argmax(i) for i in labels]"
   ]
  },
  {
   "cell_type": "code",
   "execution_count": 9,
   "metadata": {
    "collapsed": true
   },
   "outputs": [],
   "source": [
    "probabilities_val = sess.run(probabilities, feed_dict={x: x_sample})\n",
    "\n",
    "predictions = [np.argmax(i) for i in probabilities_val]\n",
    "probabilities_val = [np.around(i, decimals=3) for i in probabilities_val]"
   ]
  },
  {
   "cell_type": "code",
   "execution_count": 10,
   "metadata": {},
   "outputs": [
    {
     "name": "stdout",
     "output_type": "stream",
     "text": [
      "5 0 False\n",
      "[0.322, 0.249, 0.011, 0.285, 0.132]\n",
      "\n",
      "\n",
      "8 3 False\n",
      "[0.152, 0.15000001, 0.105, 0.47499999, 0.117]\n",
      "\n",
      "\n",
      "7 0 False\n",
      "[0.68699998, 0.059, 0.0040000002, 0.013, 0.237]\n",
      "\n",
      "\n",
      "4 0 False\n",
      "[0.48199999, 0.29100001, 0.018999999, 0.017000001, 0.192]\n",
      "\n",
      "\n",
      "2 0 False\n",
      "[0.58999997, 0.23899999, 0.012, 0.0070000002, 0.152]\n",
      "\n",
      "\n"
     ]
    }
   ],
   "source": [
    "for i in range(5):\n",
    "  result = labels[i] == predictions[i] \n",
    "  print(labels[i], predictions[i], result)\n",
    "  print(list(probabilities_val[i]))\n",
    "  print(\"\\n\")"
   ]
  },
  {
   "cell_type": "code",
   "execution_count": 64,
   "metadata": {},
   "outputs": [
    {
     "data": {
      "image/png": "[encoded data removed]",
      "text/plain": [
       "<matplotlib.figure.Figure at 0x7f0393b99390>"
      ]
     },
     "metadata": {},
     "output_type": "display_data"
    }
   ],
   "source": [
    "plt.figure(figsize=(8, 12))\n",
    "for i in range(5):\n",
    "    plt.subplot(5, 2, 2*i + 1)\n",
    "    plt.imshow(x_sample[i].reshape(28, 28), vmin=0, vmax=1, cmap=\"gray\")\n",
    "    plt.title(\"Test input '%d'\" % labels[i])\n",
    "    plt.colorbar()\n",
    "    plt.tight_layout()"
   ]
  },
  {
   "cell_type": "code",
   "execution_count": null,
   "metadata": {
    "collapsed": true
   },
   "outputs": [],
   "source": []
  }
 ],
 "metadata": {
  "kernelspec": {
   "display_name": "Python 2",
   "language": "python",
   "name": "python2"
  },
  "language_info": {
   "codemirror_mode": {
    "name": "ipython",
    "version": 2
   },
   "file_extension": ".py",
   "mimetype": "text/x-python",
   "name": "python",
   "nbconvert_exporter": "python",
   "pygments_lexer": "ipython2",
   "version": "2.7.12"
  }
 },
 "nbformat": 4,
 "nbformat_minor": 2
}
