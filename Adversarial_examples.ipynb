{
 "cells": [
  {
   "cell_type": "markdown",
   "metadata": {},
   "source": [
    "Adversarial examples are very common in generalized linear models. They could attack models via slightly perturbing the original inputs such that the small perturbation on each feature can accumulate to a significant distortion . Neural nets indeed behave very linearly, thus we can find adversarial examples by Fast Gradient Method [(Goodfellow et al., 2015)](https://arxiv.org/abs/1412.6572). Fast Gradient Method assumes that the cost function is very linear, i.e., the coefficient of the first-order term of Taylor expansion is much greater than others. This method can be written as \n",
    "$$\n",
    "adv = \\epsilon{sign(g)}  \n",
    "$$\n",
    "$$\n",
    "g = \\nabla_x Loss\n",
    "$$\n",
    "\n",
    "[Koh and Liang (2017)](https://arxiv.org/abs/1703.04730) introduced an interesting method to generate adversarial examples using influence functions (a classic technique from robust statistics), this method can be used to generate targeted examples. This paper also won ICML 2017 best paper. \n",
    "\n",
    "Training with adversarial examples can make models a bit regularized, but it cannot avoid adversarial attacks because we can still find new adversarial examples from the regularized models, due to that the linear structures is not changed.\n",
    "\n",
    "The following notebook demonstrates how to find adversarial examples by Fast Gradient Method. We can also show that these examples has transferbility in the virtually whole Bayesian posteriors."
   ]
  },
  {
   "cell_type": "code",
   "execution_count": 1,
   "metadata": {
    "collapsed": true
   },
   "outputs": [],
   "source": [
    "from __future__ import absolute_import\n",
    "from __future__ import division\n",
    "from __future__ import print_function\n",
    "\n",
    "import numpy as np\n",
    "import tensorflow as tf\n",
    "import matplotlib.pyplot as plt\n",
    "%matplotlib inline\n",
    "from tensorflow.contrib.layers import xavier_initializer"
   ]
  },
  {
   "cell_type": "markdown",
   "metadata": {},
   "source": [
    "Read MNIST dataset"
   ]
  },
  {
   "cell_type": "code",
   "execution_count": 2,
   "metadata": {},
   "outputs": [
    {
     "name": "stdout",
     "output_type": "stream",
     "text": [
      "Extracting ../VAE/Datasets/MNIST_data/train-images-idx3-ubyte.gz\n",
      "Extracting ../VAE/Datasets/MNIST_data/train-labels-idx1-ubyte.gz\n",
      "Extracting ../VAE/Datasets/MNIST_data/t10k-images-idx3-ubyte.gz\n",
      "Extracting ../VAE/Datasets/MNIST_data/t10k-labels-idx1-ubyte.gz\n",
      "Number of training samples: 55000\n",
      "Number of validation samples: 5000\n",
      "Number of test samples: 10000\n"
     ]
    },
    {
     "data": {
      "image/png": "[encoded data removed]",
      "text/plain": [
       "<matplotlib.figure.Figure at 0x7f1aa4ab2850>"
      ]
     },
     "metadata": {},
     "output_type": "display_data"
    }
   ],
   "source": [
    "from tensorflow.examples.tutorials.mnist import input_data\n",
    "mnist = input_data.read_data_sets('../VAE/Datasets/MNIST_data', one_hot=True)\n",
    "num_train_samples = mnist.train.num_examples\n",
    "num_valid_samples = mnist.validation.num_examples\n",
    "num_test_samples = mnist.test.num_examples\n",
    "\n",
    "print(\"Number of training samples: %d\" % num_train_samples)\n",
    "print(\"Number of validation samples: %d\" % num_valid_samples)\n",
    "print(\"Number of test samples: %d\" % num_test_samples)\n",
    "\n",
    "# Each image has 28 * 28 = 784 pixels\n",
    "samples = mnist.train.images[:9]\n",
    "plt.figure(figsize=(6, 6))\n",
    "plt.suptitle(\"MNIST samples\")\n",
    "for i, image in enumerate(samples):\n",
    "    plt.subplot(3, 3, i+1)\n",
    "    plt.imshow(image.reshape(28, 28), cmap=\"gray\")\n",
    "plt.show()"
   ]
  },
  {
   "cell_type": "markdown",
   "metadata": {},
   "source": [
    "#### 1. we add a hidden layer with ReLU activation to the softmax classifier"
   ]
  },
  {
   "cell_type": "code",
   "execution_count": 3,
   "metadata": {
    "collapsed": true
   },
   "outputs": [],
   "source": [
    "num_features = 784\n",
    "num_hidden_units = 500\n",
    "num_classes = 10\n",
    "\n",
    "W_0 = tf.get_variable(\"W_0\", shape=[num_features, num_hidden_units], initializer=xavier_initializer())\n",
    "b_0 = tf.get_variable(\"b_0\", shape=[num_hidden_units], initializer=tf.zeros_initializer())\n",
    "W_1 = tf.get_variable(\"W_1\", shape=[num_hidden_units, num_classes], initializer=xavier_initializer())\n",
    "b_1 = tf.get_variable(\"b_1\", shape=[num_classes], initializer=tf.zeros_initializer())\n",
    "\n",
    "def forward(X):\n",
    "    layer = tf.nn.relu(tf.matmul(X, W_0) + b_0)\n",
    "    logits = tf.matmul(layer, W_1) + b_1\n",
    "    return logits"
   ]
  },
  {
   "cell_type": "markdown",
   "metadata": {},
   "source": [
    "#### 2. Build TensorFlow graph, we use maximum likelihood criteria, the cross entropy"
   ]
  },
  {
   "cell_type": "code",
   "execution_count": 4,
   "metadata": {},
   "outputs": [],
   "source": [
    "with tf.name_scope(\"input\"):  \n",
    "    x = tf.placeholder(tf.float32, [None, 784], name='x-input')\n",
    "    y = tf.placeholder(tf.float32, [None, 10], name='y-input')\n",
    "\n",
    "with tf.name_scope(\"layers\"):\n",
    "    logits = forward(x)\n",
    "    probabilities = tf.nn.softmax(logits)\n",
    "    probabilities = tf.cast(probabilities, tf.float64)\n",
    "\n",
    "with tf.name_scope(\"loss\"):\n",
    "    cross_entropy = tf.nn.softmax_cross_entropy_with_logits(logits=logits, labels=y)\n",
    "    loss = tf.reduce_mean(cross_entropy)\n",
    "    train_op = tf.train.AdagradOptimizer(0.1).minimize(loss)\n",
    "\n",
    "with tf.name_scope(\"Accuracy\"):  \n",
    "    correct_prediction = tf.equal(tf.argmax(logits, 1), tf.argmax(y, 1), name=\"correct_prediction\")\n",
    "    accuracy = tf.reduce_mean(tf.cast(correct_prediction, tf.float32), name=\"accuracy\")"
   ]
  },
  {
   "cell_type": "markdown",
   "metadata": {},
   "source": [
    "#### 3. Training and saving models. Notice that saving models can save time for the next runing, just need to restore variables."
   ]
  },
  {
   "cell_type": "code",
   "execution_count": 5,
   "metadata": {
    "scrolled": true
   },
   "outputs": [
    {
     "name": "stdout",
     "output_type": "stream",
     "text": [
      "After 100 training step(s), validation accuracy 0.9114, valid loss 0.323859\n",
      "Train loss 0.0599112\n",
      "--------------------------------\n",
      "\n",
      "After 200 training step(s), validation accuracy 0.9266, valid loss 0.252327\n",
      "Train loss 0.0334603\n",
      "--------------------------------\n",
      "\n",
      "After 300 training step(s), validation accuracy 0.936, valid loss 0.221132\n",
      "Train loss 0.0261443\n",
      "--------------------------------\n",
      "\n",
      "After 400 training step(s), validation accuracy 0.9426, valid loss 0.199783\n",
      "Train loss 0.0203401\n",
      "--------------------------------\n",
      "\n",
      "After 500 training step(s), validation accuracy 0.9532, valid loss 0.17559\n",
      "Train loss 0.0206168\n",
      "--------------------------------\n",
      "\n",
      "After 600 training step(s), validation accuracy 0.9542, valid loss 0.160869\n",
      "Train loss 0.0184227\n",
      "--------------------------------\n",
      "\n",
      "After 700 training step(s), validation accuracy 0.961, valid loss 0.137297\n",
      "Train loss 0.016891\n",
      "--------------------------------\n",
      "\n",
      "After 800 training step(s), validation accuracy 0.965, valid loss 0.128571\n",
      "Train loss 0.0161195\n",
      "--------------------------------\n",
      "\n",
      "After 900 training step(s), validation accuracy 0.9648, valid loss 0.124672\n",
      "Train loss 0.0144571\n",
      "--------------------------------\n",
      "\n",
      "After 1000 training step(s), validation accuracy 0.9654, valid loss 0.124035\n",
      "Train loss 0.01193\n",
      "--------------------------------\n",
      "\n",
      "After 1100 training step(s), validation accuracy 0.9666, valid loss 0.120133\n",
      "Train loss 0.0124436\n",
      "--------------------------------\n",
      "\n",
      "After 1200 training step(s), validation accuracy 0.9596, valid loss 0.138854\n",
      "Train loss 0.0114038\n",
      "--------------------------------\n",
      "\n",
      "After 1300 training step(s), validation accuracy 0.9708, valid loss 0.105404\n",
      "Train loss 0.0110675\n",
      "--------------------------------\n",
      "\n",
      "After 1400 training step(s), validation accuracy 0.9696, valid loss 0.109578\n",
      "Train loss 0.0110703\n",
      "--------------------------------\n",
      "\n",
      "After 1500 training step(s), validation accuracy 0.9724, valid loss 0.10087\n",
      "Train loss 0.00964254\n",
      "--------------------------------\n",
      "\n",
      "After 1600 training step(s), validation accuracy 0.9724, valid loss 0.0964863\n",
      "Train loss 0.00911302\n",
      "--------------------------------\n",
      "\n",
      "After 1700 training step(s), validation accuracy 0.973, valid loss 0.0918636\n",
      "Train loss 0.00960913\n",
      "--------------------------------\n",
      "\n",
      "After 1800 training step(s), validation accuracy 0.9764, valid loss 0.0878808\n",
      "Train loss 0.00779845\n",
      "--------------------------------\n",
      "\n",
      "After 1900 training step(s), validation accuracy 0.974, valid loss 0.0885485\n",
      "Train loss 0.00792292\n",
      "--------------------------------\n",
      "\n",
      "After 2000 training step(s), test accuracy 0.9714, test loss 0.0892145\n"
     ]
    }
   ],
   "source": [
    "TRAINING_STEPS = 2000\n",
    "with tf.Session() as sess:\n",
    "    tf.global_variables_initializer().run()\n",
    "    validate_feed = {x: mnist.validation.images, y: mnist.validation.labels}\n",
    "    test_feed = {x: mnist.test.images, y: mnist.test.labels} \n",
    "    saver = tf.train.Saver()\n",
    "    ave = 0\n",
    "    for i in range(TRAINING_STEPS):\n",
    "        if i % 100 == 0 and i != 0:\n",
    "            validate_acc, validate_loss = sess.run([accuracy, loss], feed_dict=validate_feed)\n",
    "            print(\"After %d training step(s), validation accuracy %g, valid loss %g\" % (i, validate_acc, validate_loss))\n",
    "            \n",
    "        xs,ys=mnist.train.next_batch(64)\n",
    "        _, loss_val = sess.run([train_op, loss],feed_dict={x:xs, y:ys})\n",
    "        ave += loss_val\n",
    "        if i % 100 == 0 and i != 0:\n",
    "            saver.save(sess, \"save/\" + 'mnist.ckpt', global_step=i)\n",
    "            ave = ave / 1000\n",
    "            print(\"Train loss %g\" % ave)\n",
    "            print(\"---------------------------------------------------------------\\n\")\n",
    "            ave = 0\n",
    "    \n",
    "    test_acc, test_loss=sess.run([accuracy, loss],feed_dict=test_feed)\n",
    "    saver.save(sess, \"save/\" + 'mnist.ckpt', global_step=i)\n",
    "    print((\"After %d training step(s), test accuracy %g, test loss %g\" %(TRAINING_STEPS, test_acc, test_loss)))\n",
    "    \n",
    "#writer = tf.summary.FileWriter(\"ad.log\", tf.get_default_graph())\n",
    "#writer.close()"
   ]
  },
  {
   "cell_type": "markdown",
   "metadata": {},
   "source": [
    "#### Restore models"
   ]
  },
  {
   "cell_type": "code",
   "execution_count": 6,
   "metadata": {
    "scrolled": false
   },
   "outputs": [
    {
     "name": "stdout",
     "output_type": "stream",
     "text": [
      "INFO:tensorflow:Restoring parameters from save/mnist.ckpt-1999\n"
     ]
    }
   ],
   "source": [
    "sess = tf.Session()\n",
    "ckpt = tf.train.get_checkpoint_state(\"save\")\n",
    "sess.run(tf.global_variables_initializer())\n",
    "restorer = tf.train.Saver()\n",
    "restorer.restore(sess, ckpt.model_checkpoint_path)"
   ]
  },
  {
   "cell_type": "markdown",
   "metadata": {},
   "source": [
    "#### Read 5 samples from the test dataset. We can see that each sample is correctly classified."
   ]
  },
  {
   "cell_type": "code",
   "execution_count": 7,
   "metadata": {
    "scrolled": false
   },
   "outputs": [
    {
     "data": {
      "image/png": "[encoded data removed]",
      "text/plain": [
       "<matplotlib.figure.Figure at 0x7f46f2e75750>"
      ]
     },
     "metadata": {},
     "output_type": "display_data"
    },
    {
     "name": "stdout",
     "output_type": "stream",
     "text": [
      "Ground truth:  3 |Prediction: 3 |Result:  True\n",
      "Softmax probabilities: [0.0, 0.0, 0.0, 1.0, 0.0, 0.0, 0.0, 0.0, 0.0, 0.0]\n",
      "\n",
      "\n"
     ]
    },
    {
     "data": {
      "image/png": "[encoded data removed]",
      "text/plain": [
       "<matplotlib.figure.Figure at 0x7f46f2f3f610>"
      ]
     },
     "metadata": {},
     "output_type": "display_data"
    },
    {
     "name": "stdout",
     "output_type": "stream",
     "text": [
      "Ground truth:  9 |Prediction: 9 |Result:  True\n",
      "Softmax probabilities: [0.0, 0.0, 0.0, 0.0, 0.001, 0.0, 0.0, 0.0, 0.0, 0.998]\n",
      "\n",
      "\n"
     ]
    },
    {
     "data": {
      "image/png": "[encoded data removed]",
      "text/plain": [
       "<matplotlib.figure.Figure at 0x7f46f2f71350>"
      ]
     },
     "metadata": {},
     "output_type": "display_data"
    },
    {
     "name": "stdout",
     "output_type": "stream",
     "text": [
      "Ground truth:  1 |Prediction: 1 |Result:  True\n",
      "Softmax probabilities: [0.0, 1.0, 0.0, 0.0, 0.0, 0.0, 0.0, 0.0, 0.0, 0.0]\n",
      "\n",
      "\n"
     ]
    },
    {
     "data": {
      "image/png": "[encoded data removed]",
      "text/plain": [
       "<matplotlib.figure.Figure at 0x7f46f2fc7e10>"
      ]
     },
     "metadata": {},
     "output_type": "display_data"
    },
    {
     "name": "stdout",
     "output_type": "stream",
     "text": [
      "Ground truth:  1 |Prediction: 1 |Result:  True\n",
      "Softmax probabilities: [0.0, 0.999, 0.0, 0.0, 0.0, 0.0, 0.0, 0.0, 0.001, 0.0]\n",
      "\n",
      "\n"
     ]
    },
    {
     "data": {
      "image/png": "[encoded data removed]",
      "text/plain": [
       "<matplotlib.figure.Figure at 0x7f46f31576d0>"
      ]
     },
     "metadata": {},
     "output_type": "display_data"
    },
    {
     "name": "stdout",
     "output_type": "stream",
     "text": [
      "Ground truth:  2 |Prediction: 2 |Result:  True\n",
      "Softmax probabilities: [0.006, 0.004, 0.774, 0.02, 0.0, 0.008, 0.0, 0.063, 0.121, 0.004]\n",
      "\n",
      "\n"
     ]
    }
   ],
   "source": [
    "x_sample, labels = mnist.test.next_batch(5)\n",
    "ground_truth = [np.argmax(i) for i in labels]\n",
    "\n",
    "probabilities_val = sess.run(probabilities, feed_dict={x: x_sample})\n",
    "predictions = [np.argmax(i) for i in probabilities_val]\n",
    "probabilities_val = [np.round(i, decimals=3) for i in probabilities_val]\n",
    "\n",
    "for i in range(5):\n",
    "    plt.figure(figsize=(8, 12))\n",
    "    plt.subplot(5, 2, 1)\n",
    "    plt.imshow(x_sample[i].reshape(28, 28), vmin=0, vmax=1, cmap=\"gray\")\n",
    "    plt.title(\"Test input '%d'\" % ground_truth[i])\n",
    "    result = ground_truth[i] == predictions[i] \n",
    "    plt.colorbar()\n",
    "    plt.tight_layout()\n",
    "    plt.show()\n",
    "    print(\"Ground truth: \", ground_truth[i], \"|Prediction:\", predictions[i], \"|Result: \", result)\n",
    "    print(\"Softmax probabilities:\", [float(i) for i in probabilities_val[i]])\n",
    "    print(\"\\n\")"
   ]
  },
  {
   "cell_type": "code",
   "execution_count": 8,
   "metadata": {
    "collapsed": true
   },
   "outputs": [],
   "source": [
    "def fast_grad_method(x, loss, epsilon):\n",
    "    grads = tf.gradients(loss, [x])[0]\n",
    "    #No back propogation\n",
    "    grads = tf.stop_gradient(grads)\n",
    "    return x + epsilon * tf.sign(grads)"
   ]
  },
  {
   "cell_type": "code",
   "execution_count": 11,
   "metadata": {
    "collapsed": true
   },
   "outputs": [],
   "source": [
    "with tf.name_scope(\"Adversarial_examples\"):\n",
    "    x_adv = fast_grad_method(x, loss, 0.1)\n",
    "\n",
    "adv_examples = sess.run(x_adv, feed_dict={x: x_sample, y: labels})"
   ]
  },
  {
   "cell_type": "code",
   "execution_count": 9,
   "metadata": {
    "collapsed": true
   },
   "outputs": [],
   "source": [
    "#adv_examples = np.load('temp.npy')"
   ]
  },
  {
   "cell_type": "code",
   "execution_count": 12,
   "metadata": {},
   "outputs": [
    {
     "data": {
      "image/png": "[encoded data removed]",
      "text/plain": [
       "<matplotlib.figure.Figure at 0x7f46f3154290>"
      ]
     },
     "metadata": {},
     "output_type": "display_data"
    },
    {
     "name": "stdout",
     "output_type": "stream",
     "text": [
      "Ground truth:  3 |Prediction: 3 |Result:  True\n",
      "Softmax probabilities: [0.0, 0.006, 0.024, 0.966, 0.0, 0.001, 0.0, 0.0, 0.003, 0.0]\n",
      "\n",
      "\n"
     ]
    },
    {
     "data": {
      "image/png": "[encoded data removed]",
      "text/plain": [
       "<matplotlib.figure.Figure at 0x7f46f314a6d0>"
      ]
     },
     "metadata": {},
     "output_type": "display_data"
    },
    {
     "name": "stdout",
     "output_type": "stream",
     "text": [
      "Ground truth:  9 |Prediction: 4 |Result:  False\n",
      "Softmax probabilities: [0.0, 0.0, 0.0, 0.0, 0.985, 0.0, 0.0, 0.001, 0.0, 0.014]\n",
      "\n",
      "\n"
     ]
    },
    {
     "data": {
      "image/png": "[encoded data removed]",
      "text/plain": [
       "<matplotlib.figure.Figure at 0x7f46f31fead0>"
      ]
     },
     "metadata": {},
     "output_type": "display_data"
    },
    {
     "name": "stdout",
     "output_type": "stream",
     "text": [
      "Ground truth:  1 |Prediction: 8 |Result:  False\n",
      "Softmax probabilities: [0.0, 0.026, 0.002, 0.01, 0.002, 0.001, 0.0, 0.001, 0.954, 0.004]\n",
      "\n",
      "\n"
     ]
    },
    {
     "data": {
      "image/png": "[encoded data removed]",
      "text/plain": [
       "<matplotlib.figure.Figure at 0x7f46f0ac6e90>"
      ]
     },
     "metadata": {},
     "output_type": "display_data"
    },
    {
     "name": "stdout",
     "output_type": "stream",
     "text": [
      "Ground truth:  1 |Prediction: 8 |Result:  False\n",
      "Softmax probabilities: [0.0, 0.014, 0.004, 0.076, 0.012, 0.001, 0.0, 0.03, 0.798, 0.065]\n",
      "\n",
      "\n"
     ]
    },
    {
     "data": {
      "image/png": "[encoded data removed]",
      "text/plain": [
       "<matplotlib.figure.Figure at 0x7f46f0bdb3d0>"
      ]
     },
     "metadata": {},
     "output_type": "display_data"
    },
    {
     "name": "stdout",
     "output_type": "stream",
     "text": [
      "Ground truth:  2 |Prediction: 8 |Result:  False\n",
      "Softmax probabilities: [0.0, 0.0, 0.0, 0.007, 0.013, 0.007, 0.0, 0.031, 0.862, 0.079]\n",
      "\n",
      "\n"
     ]
    }
   ],
   "source": [
    "probabilities_val = sess.run(probabilities, feed_dict={x: adv_examples})\n",
    "predictions = [np.argmax(i) for i in probabilities_val]\n",
    "probabilities_val = [np.round(i, decimals=3) for i in probabilities_val]\n",
    "\n",
    "for i in range(5):\n",
    "    plt.figure(figsize=(8, 12))\n",
    "    plt.subplot(5, 2, 1)\n",
    "    plt.imshow(adv_examples[i].reshape(28, 28), vmin=0, vmax=1, cmap=\"gray\")\n",
    "    plt.title(\"Test input '%d'\" % ground_truth[i])\n",
    "    result = ground_truth[i] == predictions[i] \n",
    "    plt.colorbar()\n",
    "    plt.tight_layout()\n",
    "    plt.show()\n",
    "    print(\"Ground truth: \", ground_truth[i], \"|Prediction:\", predictions[i], \"|Result: \", result)\n",
    "    print(\"Softmax probabilities:\", [float(i) for i in probabilities_val[i]])\n",
    "    print(\"\\n\")"
   ]
  },
  {
   "cell_type": "code",
   "execution_count": null,
   "metadata": {
    "collapsed": true
   },
   "outputs": [],
   "source": []
  }
 ],
 "metadata": {
  "kernelspec": {
   "display_name": "Python 2",
   "language": "python",
   "name": "python2"
  },
  "language_info": {
   "codemirror_mode": {
    "name": "ipython",
    "version": 2
   },
   "file_extension": ".py",
   "mimetype": "text/x-python",
   "name": "python",
   "nbconvert_exporter": "python",
   "pygments_lexer": "ipython2",
   "version": "2.7.6"
  }
 },
 "nbformat": 4,
 "nbformat_minor": 2
}
