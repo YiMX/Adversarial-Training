{
 "cells": [
  {
   "cell_type": "markdown",
   "metadata": {},
   "source": [
    "Adversarial examples are very common in generalized linear models. They could attack models via slightly perturbing the original inputs such that the small perturbation on each feature can accumulate to a significant distortion . Neural nets indeed behave very linearly, thus we can find adversarial examples by Fast Gradient Method [(Goodfellow et al., 2015)](https://arxiv.org/abs/1412.6572). Fast Gradient Method assumes that the cost function is very linear, i.e., the coefficient of the one-order term of Taylor expansion is much greater than others.\n",
    "$$\n",
    "adv = \\epsilon{sign(g)}  \n",
    "$$\n",
    "$$\n",
    "g = \\nabla_x Loss\n",
    "$$\n",
    "\n",
    "[Koh and Liang (2017)](https://arxiv.org/abs/1703.04730) introduced an interesting method to generate adversarial examples using influence functions (a classic technique from robust statistics), this method can be used to generate targeted examples. This paper also won ICML 2017 best paper. "
   ]
  },
  {
   "cell_type": "code",
   "execution_count": 7,
   "metadata": {
    "collapsed": true
   },
   "outputs": [],
   "source": [
    "from __future__ import absolute_import\n",
    "from __future__ import division\n",
    "from __future__ import print_function\n",
    "\n",
    "import numpy as np\n",
    "import tensorflow as tf\n",
    "import matplotlib.pyplot as plt\n",
    "%matplotlib inline\n",
    "from tensorflow.contrib.layers import xavier_initializer"
   ]
  },
  {
   "cell_type": "markdown",
   "metadata": {},
   "source": [
    "Read MNIST dataset"
   ]
  },
  {
   "cell_type": "code",
   "execution_count": 5,
   "metadata": {},
   "outputs": [
    {
     "name": "stdout",
     "output_type": "stream",
     "text": [
      "Extracting ../VAE/Datasets/MNIST_data/train-images-idx3-ubyte.gz\n",
      "Extracting ../VAE/Datasets/MNIST_data/train-labels-idx1-ubyte.gz\n",
      "Extracting ../VAE/Datasets/MNIST_data/t10k-images-idx3-ubyte.gz\n",
      "Extracting ../VAE/Datasets/MNIST_data/t10k-labels-idx1-ubyte.gz\n",
      "Number of training samples: 55000\n",
      "Number of validation samples: 5000\n",
      "Number of test samples: 10000\n"
     ]
    },
    {
     "data": {
      "image/png": "[encoded data removed]",
      "text/plain": [
       "<matplotlib.figure.Figure at 0x7f286385f150>"
      ]
     },
     "metadata": {},
     "output_type": "display_data"
    }
   ],
   "source": [
    "from tensorflow.examples.tutorials.mnist import input_data\n",
    "mnist = input_data.read_data_sets('../VAE/Datasets/MNIST_data', one_hot=False)\n",
    "num_train_samples = mnist.train.num_examples\n",
    "num_valid_samples = mnist.validation.num_examples\n",
    "num_test_samples = mnist.test.num_examples\n",
    "\n",
    "print(\"Number of training samples: %d\" % num_train_samples)\n",
    "print(\"Number of validation samples: %d\" % num_valid_samples)\n",
    "print(\"Number of test samples: %d\" % num_test_samples)\n",
    "\n",
    "# Each image has 28 * 28 = 784 pixels\n",
    "samples = mnist.train.images[:9]\n",
    "plt.figure(figsize=(6, 6))\n",
    "plt.suptitle(\"MNIST samples\")\n",
    "for i, image in enumerate(samples):\n",
    "    plt.subplot(3, 3, i+1)\n",
    "    plt.imshow(image.reshape(28, 28), cmap=\"gray\")\n",
    "plt.show()"
   ]
  },
  {
   "cell_type": "markdown",
   "metadata": {},
   "source": [
    "#### 1. we add a hidden layer with ReLU activation to the softmax classifier"
   ]
  },
  {
   "cell_type": "code",
   "execution_count": 3,
   "metadata": {
    "collapsed": true
   },
   "outputs": [],
   "source": [
    "num_features = 784\n",
    "num_hidden_units = 500\n",
    "num_classes = 10\n",
    "\n",
    "W_0 = tf.get_variable(\"W_0\", shape=[num_features, num_hidden_units], initializer=xavier_initializer())\n",
    "b_0 = tf.get_variable(\"b_0\", shape=[num_hidden_units], initializer=tf.zeros_initializer())\n",
    "W_1 = tf.get_variable(\"W_1\", shape=[num_hidden_units, num_classes], initializer=xavier_initializer())\n",
    "b_1 = tf.get_variable(\"b_1\", shape=[num_classes], initializer=tf.zeros_initializer())\n",
    "\n",
    "def forward(X):\n",
    "    layer = tf.nn.relu(tf.matmul(X, W_0) + b_0)\n",
    "    logits = tf.matmul(layer, W_1) + b_1\n",
    "    return logits"
   ]
  },
  {
   "cell_type": "markdown",
   "metadata": {},
   "source": [
    "#### 2. Build TensorFlow graph, we use maximum likelihood criteria, the cross entropy"
   ]
  },
  {
   "cell_type": "code",
   "execution_count": 4,
   "metadata": {
    "collapsed": true
   },
   "outputs": [],
   "source": [
    "with tf.name_scope(\"input\"):  \n",
    "    x = tf.placeholder(tf.float32, [None, 784], name='x-input')\n",
    "    y = tf.placeholder(tf.float32, [None, 10], name='y-input')\n",
    "\n",
    "with tf.name_scope(\"layers\"):\n",
    "    logits = forward(x)\n",
    "    probabilities = tf.nn.softmax(logits)\n",
    "    probabilities = tf.cast(probabilities, tf.float64)\n",
    "\n",
    "with tf.name_scope(\"loss\"):\n",
    "    cross_entropy = tf.nn.softmax_cross_entropy_with_logits(logits=logits, labels=y)\n",
    "    loss = tf.reduce_mean(cross_entropy)\n",
    "    train_op = tf.train.AdagradOptimizer(0.1).minimize(loss)\n",
    "\n",
    "with tf.name_scope(\"Accuracy\"):  \n",
    "    correct_prediction = tf.equal(tf.argmax(logits, 1), tf.argmax(y, 1), name=\"correct_prediction\")\n",
    "    accuracy = tf.reduce_mean(tf.cast(correct_prediction, tf.float32), name=\"accuracy\")"
   ]
  },
  {
   "cell_type": "markdown",
   "metadata": {},
   "source": [
    "#### 3. Training and saving models"
   ]
  },
  {
   "cell_type": "code",
   "execution_count": 5,
   "metadata": {
    "scrolled": true
   },
   "outputs": [
    {
     "name": "stdout",
     "output_type": "stream",
     "text": [
      "After 100 training step(s), validation accuracy 0.8854, valid loss 0.386996\n",
      "Train loss 0.0589521\n",
      "--------------------------------\n",
      "\n",
      "After 200 training step(s), validation accuracy 0.9238, valid loss 0.263393\n",
      "Train loss 0.0333743\n",
      "--------------------------------\n",
      "\n",
      "After 300 training step(s), validation accuracy 0.939, valid loss 0.21324\n",
      "Train loss 0.0266591\n",
      "--------------------------------\n",
      "\n",
      "After 400 training step(s), validation accuracy 0.941, valid loss 0.20125\n",
      "Train loss 0.0218618\n",
      "--------------------------------\n",
      "\n",
      "After 500 training step(s), validation accuracy 0.9566, valid loss 0.165454\n",
      "Train loss 0.0190424\n",
      "--------------------------------\n",
      "\n",
      "After 600 training step(s), validation accuracy 0.9564, valid loss 0.152657\n",
      "Train loss 0.0180744\n",
      "--------------------------------\n",
      "\n",
      "After 700 training step(s), validation accuracy 0.9632, valid loss 0.145376\n",
      "Train loss 0.0169662\n",
      "--------------------------------\n",
      "\n",
      "After 800 training step(s), validation accuracy 0.9626, valid loss 0.138877\n",
      "Train loss 0.0155477\n",
      "--------------------------------\n",
      "\n",
      "After 900 training step(s), validation accuracy 0.9644, valid loss 0.124434\n",
      "Train loss 0.0145797\n",
      "--------------------------------\n",
      "\n",
      "After 1000 training step(s), validation accuracy 0.9668, valid loss 0.12219\n",
      "Train loss 0.0117895\n",
      "--------------------------------\n",
      "\n",
      "After 1100 training step(s), validation accuracy 0.966, valid loss 0.115946\n",
      "Train loss 0.0117638\n",
      "--------------------------------\n",
      "\n",
      "After 1200 training step(s), validation accuracy 0.9642, valid loss 0.129141\n",
      "Train loss 0.0110417\n",
      "--------------------------------\n",
      "\n",
      "After 1300 training step(s), validation accuracy 0.9706, valid loss 0.103719\n",
      "Train loss 0.0104292\n",
      "--------------------------------\n",
      "\n",
      "After 1400 training step(s), validation accuracy 0.9728, valid loss 0.100406\n",
      "Train loss 0.0103671\n",
      "--------------------------------\n",
      "\n",
      "After 1500 training step(s), validation accuracy 0.9732, valid loss 0.0982974\n",
      "Train loss 0.0114091\n",
      "--------------------------------\n",
      "\n",
      "After 1600 training step(s), validation accuracy 0.9752, valid loss 0.0904387\n",
      "Train loss 0.0101584\n",
      "--------------------------------\n",
      "\n",
      "After 1700 training step(s), validation accuracy 0.9676, valid loss 0.111527\n",
      "Train loss 0.00981106\n",
      "--------------------------------\n",
      "\n",
      "After 1800 training step(s), validation accuracy 0.9746, valid loss 0.0924453\n",
      "Train loss 0.00793403\n",
      "--------------------------------\n",
      "\n",
      "After 1900 training step(s), validation accuracy 0.9768, valid loss 0.0863546\n",
      "Train loss 0.00780063\n",
      "--------------------------------\n",
      "\n",
      "After 2000 training step(s), test accuracy 0.9719, test loss 0.0881455\n"
     ]
    }
   ],
   "source": [
    "TRAINING_STEPS = 2000\n",
    "with tf.Session() as sess:\n",
    "    tf.global_variables_initializer().run()\n",
    "    validate_feed = {x: mnist.validation.images, y: mnist.validation.labels}\n",
    "    test_feed = {x: mnist.test.images, y: mnist.test.labels} \n",
    "    saver = tf.train.Saver()\n",
    "    ave = 0\n",
    "    for i in range(TRAINING_STEPS):\n",
    "        if i % 100 == 0 and i != 0:\n",
    "            validate_acc, validate_loss = sess.run([accuracy, loss], feed_dict=validate_feed)\n",
    "            print(\"After %d training step(s), validation accuracy %g, valid loss %g\" % (i, validate_acc, validate_loss))\n",
    "            \n",
    "        xs,ys=mnist.train.next_batch(64)\n",
    "        _, loss_val = sess.run([train_op, loss],feed_dict={x:xs, y:ys})\n",
    "        ave += loss_val\n",
    "        if i % 100 == 0 and i != 0:\n",
    "            saver.save(sess, \"save/\" + 'mnist.ckpt', global_step=i)\n",
    "            ave = ave / 1000\n",
    "            print(\"Train loss %g\" % ave)\n",
    "            print(\"--------------------------------\\n\")\n",
    "            ave = 0\n",
    "    \n",
    "    test_acc, test_loss=sess.run([accuracy, loss],feed_dict=test_feed)\n",
    "    saver.save(sess, \"save/\" + 'mnist.ckpt', global_step=i)\n",
    "    print((\"After %d training step(s), test accuracy %g, test loss %g\" %(TRAINING_STEPS, test_acc, test_loss)))\n",
    "    \n",
    "#writer = tf.summary.FileWriter(\"ad.log\", tf.get_default_graph())\n",
    "#writer.close()"
   ]
  },
  {
   "cell_type": "markdown",
   "metadata": {},
   "source": [
    "#### Read models and analysis"
   ]
  },
  {
   "cell_type": "code",
   "execution_count": 5,
   "metadata": {
    "scrolled": false
   },
   "outputs": [
    {
     "name": "stdout",
     "output_type": "stream",
     "text": [
      "INFO:tensorflow:Restoring parameters from save/mnist.ckpt-1999\n"
     ]
    }
   ],
   "source": [
    "sess = tf.Session()\n",
    "ckpt = tf.train.get_checkpoint_state(\"save\")\n",
    "sess.run(tf.global_variables_initializer())\n",
    "restorer = tf.train.Saver()\n",
    "restorer.restore(sess, ckpt.model_checkpoint_path)"
   ]
  },
  {
   "cell_type": "code",
   "execution_count": 49,
   "metadata": {
    "scrolled": false
   },
   "outputs": [
    {
     "data": {
      "image/png": "[encoded data removed]",
      "text/plain": [
       "<matplotlib.figure.Figure at 0x7fd0f1f165d0>"
      ]
     },
     "metadata": {},
     "output_type": "display_data"
    },
    {
     "name": "stdout",
     "output_type": "stream",
     "text": [
      "Ground truth:  3 |Prediction: 3 |Result:  True\n",
      "Softmax probabilities: [0.0, 0.0, 0.0, 0.999, 0.0, 0.001, 0.0, 0.0, 0.0, 0.0]\n",
      "\n",
      "\n"
     ]
    },
    {
     "data": {
      "image/png": "[encoded data removed]",
      "text/plain": [
       "<matplotlib.figure.Figure at 0x7fd0f207f3d0>"
      ]
     },
     "metadata": {},
     "output_type": "display_data"
    },
    {
     "name": "stdout",
     "output_type": "stream",
     "text": [
      "Ground truth:  5 |Prediction: 5 |Result:  True\n",
      "Softmax probabilities: [0.001, 0.0, 0.0, 0.0, 0.0, 0.997, 0.0, 0.001, 0.0, 0.002]\n",
      "\n",
      "\n"
     ]
    },
    {
     "data": {
      "image/png": "[encoded data removed]",
      "text/plain": [
       "<matplotlib.figure.Figure at 0x7fd0f19ec190>"
      ]
     },
     "metadata": {},
     "output_type": "display_data"
    },
    {
     "name": "stdout",
     "output_type": "stream",
     "text": [
      "Ground truth:  5 |Prediction: 5 |Result:  True\n",
      "Softmax probabilities: [0.0, 0.0, 0.0, 0.002, 0.0, 0.998, 0.0, 0.0, 0.0, 0.0]\n",
      "\n",
      "\n"
     ]
    },
    {
     "data": {
      "image/png": "[encoded data removed]",
      "text/plain": [
       "<matplotlib.figure.Figure at 0x7fd0f1a3f610>"
      ]
     },
     "metadata": {},
     "output_type": "display_data"
    },
    {
     "name": "stdout",
     "output_type": "stream",
     "text": [
      "Ground truth:  2 |Prediction: 2 |Result:  True\n",
      "Softmax probabilities: [0.0, 0.0, 0.999, 0.0, 0.0, 0.0, 0.001, 0.0, 0.0, 0.0]\n",
      "\n",
      "\n"
     ]
    },
    {
     "data": {
      "image/png": "[encoded data removed]",
      "text/plain": [
       "<matplotlib.figure.Figure at 0x7fd0f1976ed0>"
      ]
     },
     "metadata": {},
     "output_type": "display_data"
    },
    {
     "name": "stdout",
     "output_type": "stream",
     "text": [
      "Ground truth:  7 |Prediction: 7 |Result:  True\n",
      "Softmax probabilities: [0.0, 0.0, 0.0, 0.0, 0.0, 0.0, 0.0, 0.996, 0.001, 0.002]\n",
      "\n",
      "\n"
     ]
    }
   ],
   "source": [
    "x_sample, labels = mnist.test.next_batch(5)\n",
    "ground_truth = [np.argmax(i) for i in labels]\n",
    "\n",
    "probabilities_val = sess.run(probabilities, feed_dict={x: x_sample})\n",
    "predictions = [np.argmax(i) for i in probabilities_val]\n",
    "probabilities_val = [np.round(i, decimals=3) for i in probabilities_val]\n",
    "\n",
    "for i in range(5):\n",
    "    plt.figure(figsize=(8, 12))\n",
    "    plt.subplot(5, 2, 1)\n",
    "    plt.imshow(x_sample[i].reshape(28, 28), vmin=0, vmax=1, cmap=\"gray\")\n",
    "    plt.title(\"Test input '%d'\" % ground_truth[i])\n",
    "    result = ground_truth[i] == predictions[i] \n",
    "    plt.colorbar()\n",
    "    plt.tight_layout()\n",
    "    plt.show()\n",
    "    print(\"Ground truth: \", ground_truth[i], \"|Prediction:\", predictions[i], \"|Result: \", result)\n",
    "    print(\"Softmax probabilities:\", [float(i) for i in probabilities_val[i]])\n",
    "    print(\"\\n\")"
   ]
  },
  {
   "cell_type": "code",
   "execution_count": 6,
   "metadata": {
    "collapsed": true
   },
   "outputs": [],
   "source": [
    "def fast_grad_method(x, loss, epsilon):\n",
    "    grads = tf.gradients(loss, [x])[0]\n",
    "    #No back propogation\n",
    "    grads = tf.stop_gradient(grads)\n",
    "    return x + epsilon * tf.sign(grads)"
   ]
  },
  {
   "cell_type": "code",
   "execution_count": 68,
   "metadata": {
    "collapsed": true
   },
   "outputs": [],
   "source": [
    "with tf.name_scope(\"Adversarial_examples\"):\n",
    "    x_adv = fast_grad_method(x, loss, 0.06)\n",
    "\n",
    "adv_examples = sess.run(x_adv, feed_dict={x: x_sample, y: labels})"
   ]
  },
  {
   "cell_type": "code",
   "execution_count": 69,
   "metadata": {},
   "outputs": [
    {
     "data": {
      "image/png": "[encoded data removed]",
      "text/plain": [
       "<matplotlib.figure.Figure at 0x7fd0f1ac7c10>"
      ]
     },
     "metadata": {},
     "output_type": "display_data"
    },
    {
     "name": "stdout",
     "output_type": "stream",
     "text": [
      "Ground truth:  3 |Prediction: 5 |Result:  False\n",
      "Softmax probabilities: [0.0, 0.0, 0.002, 0.321, 0.007, 0.623, 0.0, 0.0, 0.041, 0.005]\n",
      "\n",
      "\n"
     ]
    },
    {
     "data": {
      "image/png": "[encoded data removed]",
      "text/plain": [
       "<matplotlib.figure.Figure at 0x7fd0f13c06d0>"
      ]
     },
     "metadata": {},
     "output_type": "display_data"
    },
    {
     "name": "stdout",
     "output_type": "stream",
     "text": [
      "Ground truth:  5 |Prediction: 9 |Result:  False\n",
      "Softmax probabilities: [0.05, 0.0, 0.0, 0.004, 0.016, 0.385, 0.009, 0.083, 0.009, 0.443]\n",
      "\n",
      "\n"
     ]
    },
    {
     "data": {
      "image/png": "[encoded data removed]",
      "text/plain": [
       "<matplotlib.figure.Figure at 0x7fd0f2078ad0>"
      ]
     },
     "metadata": {},
     "output_type": "display_data"
    },
    {
     "name": "stdout",
     "output_type": "stream",
     "text": [
      "Ground truth:  5 |Prediction: 3 |Result:  False\n",
      "Softmax probabilities: [0.0, 0.0, 0.0, 0.779, 0.0, 0.218, 0.0, 0.0, 0.003, 0.0]\n",
      "\n",
      "\n"
     ]
    },
    {
     "data": {
      "image/png": "[encoded data removed]",
      "text/plain": [
       "<matplotlib.figure.Figure at 0x7fd0f18ba310>"
      ]
     },
     "metadata": {},
     "output_type": "display_data"
    },
    {
     "name": "stdout",
     "output_type": "stream",
     "text": [
      "Ground truth:  2 |Prediction: 2 |Result:  True\n",
      "Softmax probabilities: [0.0, 0.0, 0.529, 0.0, 0.004, 0.0, 0.466, 0.0, 0.0, 0.0]\n",
      "\n",
      "\n"
     ]
    },
    {
     "data": {
      "image/png": "[encoded data removed]",
      "text/plain": [
       "<matplotlib.figure.Figure at 0x7fd0f1944a10>"
      ]
     },
     "metadata": {},
     "output_type": "display_data"
    },
    {
     "name": "stdout",
     "output_type": "stream",
     "text": [
      "Ground truth:  7 |Prediction: 9 |Result:  False\n",
      "Softmax probabilities: [0.0, 0.0, 0.0, 0.007, 0.004, 0.001, 0.0, 0.23, 0.296, 0.46]\n",
      "\n",
      "\n"
     ]
    }
   ],
   "source": [
    "probabilities_val = sess.run(probabilities, feed_dict={x: adv_examples})\n",
    "predictions = [np.argmax(i) for i in probabilities_val]\n",
    "probabilities_val = [np.round(i, decimals=3) for i in probabilities_val]\n",
    "\n",
    "for i in range(5):\n",
    "    plt.figure(figsize=(8, 12))\n",
    "    plt.subplot(5, 2, 1)\n",
    "    plt.imshow(adv_examples[i].reshape(28, 28), vmin=0, vmax=1, cmap=\"gray\")\n",
    "    plt.title(\"Test input '%d'\" % ground_truth[i])\n",
    "    result = ground_truth[i] == predictions[i] \n",
    "    plt.colorbar()\n",
    "    plt.tight_layout()\n",
    "    plt.show()\n",
    "    print(\"Ground truth: \", ground_truth[i], \"|Prediction:\", predictions[i], \"|Result: \", result)\n",
    "    print(\"Softmax probabilities:\", [float(i) for i in probabilities_val[i]])\n",
    "    print(\"\\n\")"
   ]
  },
  {
   "cell_type": "code",
   "execution_count": null,
   "metadata": {
    "collapsed": true
   },
   "outputs": [],
   "source": []
  }
 ],
 "metadata": {
  "kernelspec": {
   "display_name": "Python 2",
   "language": "python",
   "name": "python2"
  },
  "language_info": {
   "codemirror_mode": {
    "name": "ipython",
    "version": 2
   },
   "file_extension": ".py",
   "mimetype": "text/x-python",
   "name": "python",
   "nbconvert_exporter": "python",
   "pygments_lexer": "ipython2",
   "version": "2.7.6"
  }
 },
 "nbformat": 4,
 "nbformat_minor": 2
}
