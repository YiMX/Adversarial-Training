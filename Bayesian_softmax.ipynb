{
 "cells": [
  {
   "cell_type": "markdown",
   "metadata": {},
   "source": [
    "Softmax regression is a generalized logistic model, it is also a shallow one-layer neural network. Traditional training methods for classification tasks usually aim to minimize the cross entropy of classes. This is actually equivalent to maximum likelihood estimation of multinomial observations, we could also implement softmax via a Bayesian perspective."
   ]
  },
  {
   "cell_type": "code",
   "execution_count": 1,
   "metadata": {},
   "outputs": [],
   "source": [
    "from __future__ import absolute_import\n",
    "from __future__ import division\n",
    "from __future__ import print_function\n",
    "\n",
    "import edward as ed\n",
    "import matplotlib.pyplot as plt\n",
    "import numpy as np\n",
    "import tensorflow as tf\n",
    "from edward.models import Normal, Categorical"
   ]
  },
  {
   "cell_type": "markdown",
   "metadata": {},
   "source": [
    "Read MNIST dataset (images of digits from 0-9)"
   ]
  },
  {
   "cell_type": "code",
   "execution_count": 2,
   "metadata": {},
   "outputs": [
    {
     "name": "stdout",
     "output_type": "stream",
     "text": [
      "Extracting Datasets/MNIST_data/train-images-idx3-ubyte.gz\n",
      "Extracting Datasets/MNIST_data/train-labels-idx1-ubyte.gz\n",
      "Extracting Datasets/MNIST_data/t10k-images-idx3-ubyte.gz\n",
      "Extracting Datasets/MNIST_data/t10k-labels-idx1-ubyte.gz\n",
      "Number of training samples: 55000\n",
      "Number of validation samples: 5000\n",
      "Number of test samples: 10000\n"
     ]
    },
    {
     "data": {
      "image/png": "[encoded data removed]",
      "text/plain": [
       "<matplotlib.figure.Figure at 0x1192cdad0>"
      ]
     },
     "metadata": {},
     "output_type": "display_data"
    }
   ],
   "source": [
    "from tensorflow.examples.tutorials.mnist import input_data\n",
    "mnist = input_data.read_data_sets('Datasets/MNIST_data', one_hot=False)\n",
    "num_train_samples = mnist.train.num_examples\n",
    "num_valid_samples = mnist.validation.num_examples\n",
    "num_test_samples = mnist.test.num_examples\n",
    "\n",
    "print(\"Number of training samples: %d\" % num_train_samples)\n",
    "print(\"Number of validation samples: %d\" % num_valid_samples)\n",
    "print(\"Number of test samples: %d\" % num_test_samples)\n",
    "\n",
    "# Each image has 28 * 28 = 784 pixels\n",
    "samples = mnist.train.images[:9]\n",
    "plt.figure(figsize=(6, 6))\n",
    "plt.suptitle(\"MNIST samples\")\n",
    "for i, image in enumerate(samples):\n",
    "    plt.subplot(3, 3, i+1)\n",
    "    plt.imshow(image.reshape(28, 28), cmap=\"gray\")\n",
    "plt.show()"
   ]
  },
  {
   "cell_type": "markdown",
   "metadata": {},
   "source": [
    "#### 1. Define the model"
   ]
  },
  {
   "cell_type": "code",
   "execution_count": 3,
   "metadata": {},
   "outputs": [],
   "source": [
    "def softmax(X, W_0, b_0):\n",
    "    logits = tf.matmul(X, W_0) + b_0\n",
    "    return logits"
   ]
  },
  {
   "cell_type": "markdown",
   "metadata": {},
   "source": [
    "#### 2. Priors"
   ]
  },
  {
   "cell_type": "code",
   "execution_count": 4,
   "metadata": {},
   "outputs": [],
   "source": [
    "num_features = 784\n",
    "num_classes = 10\n",
    "\n",
    "W_0 = Normal(loc=tf.zeros([num_features, num_classes]), scale=tf.ones([num_features, num_classes]))\n",
    "b_0 = Normal(loc=tf.zeros(num_classes), scale=tf.ones(num_classes))"
   ]
  },
  {
   "cell_type": "markdown",
   "metadata": {},
   "source": [
    "#### 3. For a classification problem, we define $y$ as categorical (multinomial with total count=1) distribution (Note that the multinomial class from tensorflow.contrib.distributions currently does not work, [I reported this issue to Edward](https://github.com/blei-lab/edward/issues/724#issuecomment-321841508)) "
   ]
  },
  {
   "cell_type": "code",
   "execution_count": 5,
   "metadata": {},
   "outputs": [],
   "source": [
    "#Use tf.placeholder for batch training\n",
    "X = tf.placeholder(tf.float32, [None, num_features])\n",
    "y = Categorical(logits=softmax(X, W_0, b_0))"
   ]
  },
  {
   "cell_type": "markdown",
   "metadata": {},
   "source": [
    "#### 4. Posteriors"
   ]
  },
  {
   "cell_type": "code",
   "execution_count": 6,
   "metadata": {},
   "outputs": [],
   "source": [
    "qw_0_loc = tf.Variable(tf.random_normal([num_features, num_classes]))\n",
    "qw_0_scale = tf.nn.softplus(tf.Variable(tf.random_normal([num_features, num_classes])))\n",
    "qb_0_loc = tf.Variable(tf.random_normal([num_classes]) + 5)\n",
    "qb_0_scale = tf.nn.softplus(tf.Variable(tf.random_normal([num_classes])))\n",
    "\n",
    "qw_0 = Normal(loc=qw_0_loc, scale=qw_0_scale)\n",
    "qb_0 = Normal(loc=qb_0_loc, scale=qb_0_scale)"
   ]
  },
  {
   "cell_type": "markdown",
   "metadata": {},
   "source": [
    "#### 5. Training"
   ]
  },
  {
   "cell_type": "code",
   "execution_count": 7,
   "metadata": {
    "scrolled": false
   },
   "outputs": [
    {
     "name": "stdout",
     "output_type": "stream",
     "text": [
      "5000/5000 [100%] ██████████████████████████████ Elapsed: 6s | Loss: 32322.275\n"
     ]
    }
   ],
   "source": [
    "y_ph = tf.placeholder(tf.int32, [None])\n",
    "inference = ed.KLqp({W_0: qw_0, b_0: qb_0},  data={y: y_ph})\n",
    "inference.initialize(n_print=100, n_iter=5000, scale={y: mnist.train.num_examples / 64})\n",
    "\n",
    "# ed.get_session builds an interactive session in TensorFlow\n",
    "sess = ed.get_session()\n",
    "tf.global_variables_initializer().run()\n",
    "for t in range(inference.n_iter):\n",
    "    xs, ys = mnist.train.next_batch(64)\n",
    "    info_dict = inference.update({X: xs, y_ph: ys})\n",
    "    inference.print_progress(info_dict)"
   ]
  },
  {
   "cell_type": "markdown",
   "metadata": {},
   "source": [
    "#### 6. Evaluation on one posterior mode"
   ]
  },
  {
   "cell_type": "code",
   "execution_count": 8,
   "metadata": {},
   "outputs": [
    {
     "name": "stdout",
     "output_type": "stream",
     "text": [
      "Accuracy on test samples: 91.32%\n"
     ]
    }
   ],
   "source": [
    "x_test = mnist.test.images\n",
    "y_test = mnist.test.labels\n",
    "logits = softmax(x_test, qw_0, qb_0)\n",
    "correct_predictions = tf.equal(tf.argmax(logits, 1), y_test)\n",
    "accuracy = tf.reduce_mean(tf.cast(correct_predictions, tf.float32))\n",
    "print(\"Accuracy on test samples: %.2f%%\" % (accuracy.eval()*100))"
   ]
  },
  {
   "cell_type": "code",
   "execution_count": null,
   "metadata": {
    "collapsed": true
   },
   "outputs": [],
   "source": []
  }
 ],
 "metadata": {
  "kernelspec": {
   "display_name": "Python 2",
   "language": "python",
   "name": "python2"
  },
  "language_info": {
   "codemirror_mode": {
    "name": "ipython",
    "version": 2
   },
   "file_extension": ".py",
   "mimetype": "text/x-python",
   "name": "python",
   "nbconvert_exporter": "python",
   "pygments_lexer": "ipython2",
   "version": "2.7.10"
  }
 },
 "nbformat": 4,
 "nbformat_minor": 2
}
